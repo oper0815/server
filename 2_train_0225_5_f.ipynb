{
 "cells": [
  {
   "cell_type": "code",
   "execution_count": 1,
   "id": "d4f239a7-c292-4f51-a2de-c9d9a95c211b",
   "metadata": {},
   "outputs": [],
   "source": [
    "import os\n",
    "import tqdm\n",
    "import numpy as np\n",
    "import pandas as pd\n",
    "import tensorflow as tf\n",
    "from os.path import isfile, join\n",
    "import time\n",
    "import math\n",
    "import logging\n",
    "from tqdm import tqdm, tqdm_pandas \n",
    "\n",
    "from deepctr.models import DeepFM\n",
    "from deepctr.feature_column import SparseFeat,DenseFeat, get_feature_names, VarLenSparseFeat"
   ]
  },
  {
   "cell_type": "code",
   "execution_count": 2,
   "id": "ef5b7e8b-280b-46c3-82ab-235028e16e66",
   "metadata": {},
   "outputs": [
    {
     "name": "stdout",
     "output_type": "stream",
     "text": [
      "tensorflow version :  2.4.4\n",
      "keras version :  2.4.0\n",
      "WARNING:tensorflow:From <ipython-input-2-bce55ae48cea>:15: is_gpu_available (from tensorflow.python.framework.test_util) is deprecated and will be removed in a future version.\n",
      "Instructions for updating:\n",
      "Use `tf.config.list_physical_devices('GPU')` instead.\n",
      "GPU available ? :  True\n"
     ]
    }
   ],
   "source": [
    "# gpu number setting\n",
    "\n",
    "os.environ['CUDA_DEVICE_ORDER'] = 'PCI_BUS_ID'\n",
    "os.environ[\"CUDA_VISIBLE_DEVICES\"] = '0'\n",
    "\n",
    "config = tf.compat.v1.ConfigProto()\n",
    "config.gpu_options.allow_growth = True\n",
    "session = tf.compat.v1.Session(config=config)\n",
    "\n",
    "# tensorflow & keras version check\n",
    "print('tensorflow version : ' , tf.__version__)\n",
    "print('keras version : ' , tf.keras.__version__)\n",
    "\n",
    "# tensorflow gpu available check \n",
    "print('GPU available ? : ', tf.test.is_gpu_available(cuda_only=False, min_cuda_compute_capability=None))\n"
   ]
  },
  {
   "cell_type": "code",
   "execution_count": 3,
   "id": "6bc1c1b2-71fa-45ed-80be-9d8ecbc20b78",
   "metadata": {},
   "outputs": [],
   "source": [
    "basedir = '/home/lms/ms/poc'\n",
    "rawdata_path = join(basedir, 'dataset')\n",
    "procdata_path = join(basedir, 'deepfm', 'dataset', 'preprocess', 'rating')\n",
    "\n",
    "model_path_5_no_f= join(basedir, 'deepfm', 'model', 'model_5_no_f')\n",
    "model_path_r_no_f= join(basedir, 'deepfm', 'model', 'model_r_no_f')\n",
    "model_path_5_f= join(basedir, 'deepfm', 'model', 'model_5_f')\n",
    "model_path_r_f= join(basedir, 'deepfm', 'model', 'model_r_f')\n",
    "\n",
    "target_5 = 'rating_5'\n",
    "target_r = 'rating_r'\n",
    "epochs=20\n",
    "batch_size=2**15\n",
    "learner='adam'\n",
    "num_hidden=256\n",
    "task='regression'\n",
    "dropout=0.6\n",
    "lr=0.001\n",
    "lr_decay=0.0001\n",
    "embedding_dim=5\n",
    "data_filename='hist.pkl'"
   ]
  },
  {
   "cell_type": "code",
   "execution_count": 4,
   "id": "10759961-774c-49bd-9bb7-4c5d4b6da484",
   "metadata": {
    "tags": []
   },
   "outputs": [
    {
     "data": {
      "text/html": [
       "<div>\n",
       "<style scoped>\n",
       "    .dataframe tbody tr th:only-of-type {\n",
       "        vertical-align: middle;\n",
       "    }\n",
       "\n",
       "    .dataframe tbody tr th {\n",
       "        vertical-align: top;\n",
       "    }\n",
       "\n",
       "    .dataframe thead th {\n",
       "        text-align: right;\n",
       "    }\n",
       "</style>\n",
       "<table border=\"1\" class=\"dataframe\">\n",
       "  <thead>\n",
       "    <tr style=\"text-align: right;\">\n",
       "      <th></th>\n",
       "      <th>sa_id_CODE</th>\n",
       "      <th>category_id_CODE</th>\n",
       "      <th>rating_r</th>\n",
       "      <th>rating_5</th>\n",
       "      <th>seg_1</th>\n",
       "      <th>seg_2</th>\n",
       "      <th>seg_3</th>\n",
       "      <th>seg_4</th>\n",
       "      <th>pr_info_CODE</th>\n",
       "      <th>price_CODE</th>\n",
       "      <th>release_date</th>\n",
       "      <th>run_time_ss</th>\n",
       "    </tr>\n",
       "  </thead>\n",
       "  <tbody>\n",
       "    <tr>\n",
       "      <th>0</th>\n",
       "      <td>0</td>\n",
       "      <td>0</td>\n",
       "      <td>4.5</td>\n",
       "      <td>5</td>\n",
       "      <td>1.00</td>\n",
       "      <td>0.0</td>\n",
       "      <td>0.00</td>\n",
       "      <td>0.00</td>\n",
       "      <td>0</td>\n",
       "      <td>0</td>\n",
       "      <td>0.990018</td>\n",
       "      <td>0.17365</td>\n",
       "    </tr>\n",
       "    <tr>\n",
       "      <th>1</th>\n",
       "      <td>1</td>\n",
       "      <td>0</td>\n",
       "      <td>5.0</td>\n",
       "      <td>5</td>\n",
       "      <td>0.97</td>\n",
       "      <td>0.0</td>\n",
       "      <td>0.03</td>\n",
       "      <td>0.00</td>\n",
       "      <td>0</td>\n",
       "      <td>0</td>\n",
       "      <td>0.990018</td>\n",
       "      <td>0.17365</td>\n",
       "    </tr>\n",
       "    <tr>\n",
       "      <th>2</th>\n",
       "      <td>2</td>\n",
       "      <td>0</td>\n",
       "      <td>4.5</td>\n",
       "      <td>5</td>\n",
       "      <td>0.97</td>\n",
       "      <td>0.0</td>\n",
       "      <td>0.03</td>\n",
       "      <td>0.00</td>\n",
       "      <td>0</td>\n",
       "      <td>0</td>\n",
       "      <td>0.990018</td>\n",
       "      <td>0.17365</td>\n",
       "    </tr>\n",
       "    <tr>\n",
       "      <th>3</th>\n",
       "      <td>3</td>\n",
       "      <td>0</td>\n",
       "      <td>5.0</td>\n",
       "      <td>5</td>\n",
       "      <td>0.98</td>\n",
       "      <td>0.0</td>\n",
       "      <td>0.01</td>\n",
       "      <td>0.01</td>\n",
       "      <td>0</td>\n",
       "      <td>0</td>\n",
       "      <td>0.990018</td>\n",
       "      <td>0.17365</td>\n",
       "    </tr>\n",
       "    <tr>\n",
       "      <th>4</th>\n",
       "      <td>4</td>\n",
       "      <td>0</td>\n",
       "      <td>4.5</td>\n",
       "      <td>5</td>\n",
       "      <td>0.86</td>\n",
       "      <td>0.0</td>\n",
       "      <td>0.01</td>\n",
       "      <td>0.13</td>\n",
       "      <td>0</td>\n",
       "      <td>0</td>\n",
       "      <td>0.990018</td>\n",
       "      <td>0.17365</td>\n",
       "    </tr>\n",
       "  </tbody>\n",
       "</table>\n",
       "</div>"
      ],
      "text/plain": [
       "   sa_id_CODE  category_id_CODE  rating_r  rating_5  seg_1  seg_2  seg_3  \\\n",
       "0           0                 0       4.5         5   1.00    0.0   0.00   \n",
       "1           1                 0       5.0         5   0.97    0.0   0.03   \n",
       "2           2                 0       4.5         5   0.97    0.0   0.03   \n",
       "3           3                 0       5.0         5   0.98    0.0   0.01   \n",
       "4           4                 0       4.5         5   0.86    0.0   0.01   \n",
       "\n",
       "   seg_4  pr_info_CODE  price_CODE  release_date  run_time_ss  \n",
       "0   0.00             0           0      0.990018      0.17365  \n",
       "1   0.00             0           0      0.990018      0.17365  \n",
       "2   0.00             0           0      0.990018      0.17365  \n",
       "3   0.01             0           0      0.990018      0.17365  \n",
       "4   0.13             0           0      0.990018      0.17365  "
      ]
     },
     "execution_count": 4,
     "metadata": {},
     "output_type": "execute_result"
    }
   ],
   "source": [
    "data = pd.read_pickle(os.path.join(procdata_path, data_filename))\n",
    "data.head()"
   ]
  },
  {
   "cell_type": "code",
   "execution_count": 5,
   "id": "615d77ee-a7b2-4071-bdbf-11f31865f35b",
   "metadata": {},
   "outputs": [],
   "source": [
    "sparse_features = ['sa_id_CODE','category_id_CODE','price_CODE','pr_info_CODE'] # nominal variable\n",
    "dense_features = ['seg_1',\n",
    "                  'seg_2',\n",
    "                  'seg_3',\n",
    "                  'seg_4',                       \n",
    "                  'release_date',\n",
    "                  'run_time_ss'] # continuous "
   ]
  },
  {
   "cell_type": "code",
   "execution_count": 6,
   "id": "989f1b8a-2d83-4f91-8335-fb3e46bbd368",
   "metadata": {},
   "outputs": [],
   "source": [
    "fixlen_feature_columns = [SparseFeat(feat, data[feat].nunique(), embedding_dim=embedding_dim) \n",
    "                                  for feat in sparse_features] + [DenseFeat(feat, 1,) for feat in dense_features]\n",
    "\n",
    "linear_feature_columns = fixlen_feature_columns\n",
    "dnn_feature_columns = fixlen_feature_columns\n",
    "\n",
    "feature_names = get_feature_names(linear_feature_columns + dnn_feature_columns)"
   ]
  },
  {
   "cell_type": "code",
   "execution_count": 7,
   "id": "58657374-3a46-49cd-9bb5-2414b6b2b6cf",
   "metadata": {},
   "outputs": [
    {
     "data": {
      "text/plain": [
       "[SparseFeat(name='sa_id_CODE', vocabulary_size=1973461, embedding_dim=5, use_hash=False, vocabulary_path=None, dtype='int32', embeddings_initializer=<tensorflow.python.keras.initializers.initializers_v1.RandomNormal object at 0x7fe0502c3ba8>, embedding_name='sa_id_CODE', group_name='default_group', trainable=True),\n",
       " SparseFeat(name='category_id_CODE', vocabulary_size=17221, embedding_dim=5, use_hash=False, vocabulary_path=None, dtype='int32', embeddings_initializer=<tensorflow.python.keras.initializers.initializers_v1.RandomNormal object at 0x7fe0502c3b38>, embedding_name='category_id_CODE', group_name='default_group', trainable=True),\n",
       " SparseFeat(name='price_CODE', vocabulary_size=53, embedding_dim=5, use_hash=False, vocabulary_path=None, dtype='int32', embeddings_initializer=<tensorflow.python.keras.initializers.initializers_v1.RandomNormal object at 0x7fe0502c3cc0>, embedding_name='price_CODE', group_name='default_group', trainable=True),\n",
       " SparseFeat(name='pr_info_CODE', vocabulary_size=5, embedding_dim=5, use_hash=False, vocabulary_path=None, dtype='int32', embeddings_initializer=<tensorflow.python.keras.initializers.initializers_v1.RandomNormal object at 0x7fe0502c3f98>, embedding_name='pr_info_CODE', group_name='default_group', trainable=True),\n",
       " DenseFeat(name='seg_1', dimension=1, dtype='float32', transform_fn=None),\n",
       " DenseFeat(name='seg_2', dimension=1, dtype='float32', transform_fn=None),\n",
       " DenseFeat(name='seg_3', dimension=1, dtype='float32', transform_fn=None),\n",
       " DenseFeat(name='seg_4', dimension=1, dtype='float32', transform_fn=None),\n",
       " DenseFeat(name='release_date', dimension=1, dtype='float32', transform_fn=None),\n",
       " DenseFeat(name='run_time_ss', dimension=1, dtype='float32', transform_fn=None)]"
      ]
     },
     "execution_count": 7,
     "metadata": {},
     "output_type": "execute_result"
    }
   ],
   "source": [
    "fixlen_feature_columns"
   ]
  },
  {
   "cell_type": "code",
   "execution_count": 8,
   "id": "37756ead-19c3-480d-8d88-91d345817e9e",
   "metadata": {},
   "outputs": [
    {
     "data": {
      "text/html": [
       "<div>\n",
       "<style scoped>\n",
       "    .dataframe tbody tr th:only-of-type {\n",
       "        vertical-align: middle;\n",
       "    }\n",
       "\n",
       "    .dataframe tbody tr th {\n",
       "        vertical-align: top;\n",
       "    }\n",
       "\n",
       "    .dataframe thead th {\n",
       "        text-align: right;\n",
       "    }\n",
       "</style>\n",
       "<table border=\"1\" class=\"dataframe\">\n",
       "  <thead>\n",
       "    <tr style=\"text-align: right;\">\n",
       "      <th></th>\n",
       "      <th>sa_id_CODE</th>\n",
       "      <th>category_id_CODE</th>\n",
       "      <th>rating_5</th>\n",
       "      <th>seg_1</th>\n",
       "      <th>seg_2</th>\n",
       "      <th>seg_3</th>\n",
       "      <th>seg_4</th>\n",
       "      <th>pr_info_CODE</th>\n",
       "      <th>price_CODE</th>\n",
       "      <th>release_date</th>\n",
       "      <th>run_time_ss</th>\n",
       "    </tr>\n",
       "  </thead>\n",
       "  <tbody>\n",
       "    <tr>\n",
       "      <th>0</th>\n",
       "      <td>0</td>\n",
       "      <td>0</td>\n",
       "      <td>5</td>\n",
       "      <td>1.00</td>\n",
       "      <td>0.0</td>\n",
       "      <td>0.00</td>\n",
       "      <td>0.00</td>\n",
       "      <td>0</td>\n",
       "      <td>0</td>\n",
       "      <td>0.990018</td>\n",
       "      <td>0.17365</td>\n",
       "    </tr>\n",
       "    <tr>\n",
       "      <th>1</th>\n",
       "      <td>1</td>\n",
       "      <td>0</td>\n",
       "      <td>5</td>\n",
       "      <td>0.97</td>\n",
       "      <td>0.0</td>\n",
       "      <td>0.03</td>\n",
       "      <td>0.00</td>\n",
       "      <td>0</td>\n",
       "      <td>0</td>\n",
       "      <td>0.990018</td>\n",
       "      <td>0.17365</td>\n",
       "    </tr>\n",
       "    <tr>\n",
       "      <th>2</th>\n",
       "      <td>2</td>\n",
       "      <td>0</td>\n",
       "      <td>5</td>\n",
       "      <td>0.97</td>\n",
       "      <td>0.0</td>\n",
       "      <td>0.03</td>\n",
       "      <td>0.00</td>\n",
       "      <td>0</td>\n",
       "      <td>0</td>\n",
       "      <td>0.990018</td>\n",
       "      <td>0.17365</td>\n",
       "    </tr>\n",
       "    <tr>\n",
       "      <th>3</th>\n",
       "      <td>3</td>\n",
       "      <td>0</td>\n",
       "      <td>5</td>\n",
       "      <td>0.98</td>\n",
       "      <td>0.0</td>\n",
       "      <td>0.01</td>\n",
       "      <td>0.01</td>\n",
       "      <td>0</td>\n",
       "      <td>0</td>\n",
       "      <td>0.990018</td>\n",
       "      <td>0.17365</td>\n",
       "    </tr>\n",
       "    <tr>\n",
       "      <th>4</th>\n",
       "      <td>4</td>\n",
       "      <td>0</td>\n",
       "      <td>5</td>\n",
       "      <td>0.86</td>\n",
       "      <td>0.0</td>\n",
       "      <td>0.01</td>\n",
       "      <td>0.13</td>\n",
       "      <td>0</td>\n",
       "      <td>0</td>\n",
       "      <td>0.990018</td>\n",
       "      <td>0.17365</td>\n",
       "    </tr>\n",
       "  </tbody>\n",
       "</table>\n",
       "</div>"
      ],
      "text/plain": [
       "   sa_id_CODE  category_id_CODE  rating_5  seg_1  seg_2  seg_3  seg_4  \\\n",
       "0           0                 0         5   1.00    0.0   0.00   0.00   \n",
       "1           1                 0         5   0.97    0.0   0.03   0.00   \n",
       "2           2                 0         5   0.97    0.0   0.03   0.00   \n",
       "3           3                 0         5   0.98    0.0   0.01   0.01   \n",
       "4           4                 0         5   0.86    0.0   0.01   0.13   \n",
       "\n",
       "   pr_info_CODE  price_CODE  release_date  run_time_ss  \n",
       "0             0           0      0.990018      0.17365  \n",
       "1             0           0      0.990018      0.17365  \n",
       "2             0           0      0.990018      0.17365  \n",
       "3             0           0      0.990018      0.17365  \n",
       "4             0           0      0.990018      0.17365  "
      ]
     },
     "execution_count": 8,
     "metadata": {},
     "output_type": "execute_result"
    }
   ],
   "source": [
    "data = data[['sa_id_CODE', 'category_id_CODE', 'rating_5', 'seg_1', 'seg_2', 'seg_3', 'seg_4', 'pr_info_CODE', 'price_CODE', 'release_date', 'run_time_ss']]\n",
    "data.head()"
   ]
  },
  {
   "cell_type": "code",
   "execution_count": 9,
   "id": "e39b270f-3e92-4b59-936c-b9208cc0b244",
   "metadata": {},
   "outputs": [],
   "source": [
    "from sklearn.metrics import mean_squared_error\n",
    "from sklearn.model_selection import train_test_split\n",
    "\n",
    "train, test = train_test_split(data, test_size=0.2, random_state=2020)"
   ]
  },
  {
   "cell_type": "code",
   "execution_count": 10,
   "id": "2d92125e-3359-4341-9ec8-85fb1a06f5c2",
   "metadata": {},
   "outputs": [],
   "source": [
    "# negative random sampling\n",
    "max_code = data['category_id_CODE'].values.tolist()\n",
    "max_num = max(max_code)"
   ]
  },
  {
   "cell_type": "code",
   "execution_count": 11,
   "id": "f2102cb4-0bfa-4d34-9851-62ca4e6deb51",
   "metadata": {},
   "outputs": [],
   "source": [
    "np.random.seed = 2020\n",
    "rand1 = np.random.randint(max_num, size=len(train)) # 12511\n",
    "rand2 = np.random.randint(max_num, size=len(train))\n",
    "rand3 = np.random.randint(max_num, size=len(train))\n",
    "rand4 = np.random.randint(max_num, size=len(train))\n",
    "rand5 = np.random.randint(max_num, size=len(train))"
   ]
  },
  {
   "cell_type": "code",
   "execution_count": 12,
   "id": "638062a3-dde2-4a9c-b329-5463eda245ce",
   "metadata": {},
   "outputs": [
    {
     "data": {
      "text/html": [
       "<div>\n",
       "<style scoped>\n",
       "    .dataframe tbody tr th:only-of-type {\n",
       "        vertical-align: middle;\n",
       "    }\n",
       "\n",
       "    .dataframe tbody tr th {\n",
       "        vertical-align: top;\n",
       "    }\n",
       "\n",
       "    .dataframe thead th {\n",
       "        text-align: right;\n",
       "    }\n",
       "</style>\n",
       "<table border=\"1\" class=\"dataframe\">\n",
       "  <thead>\n",
       "    <tr style=\"text-align: right;\">\n",
       "      <th></th>\n",
       "      <th>sa_id_CODE</th>\n",
       "      <th>category_id_CODE</th>\n",
       "    </tr>\n",
       "  </thead>\n",
       "  <tbody>\n",
       "    <tr>\n",
       "      <th>11999337</th>\n",
       "      <td>278987</td>\n",
       "      <td>NaN</td>\n",
       "    </tr>\n",
       "    <tr>\n",
       "      <th>8141526</th>\n",
       "      <td>386253</td>\n",
       "      <td>NaN</td>\n",
       "    </tr>\n",
       "    <tr>\n",
       "      <th>12344380</th>\n",
       "      <td>1880334</td>\n",
       "      <td>NaN</td>\n",
       "    </tr>\n",
       "    <tr>\n",
       "      <th>9598807</th>\n",
       "      <td>597462</td>\n",
       "      <td>NaN</td>\n",
       "    </tr>\n",
       "    <tr>\n",
       "      <th>2416674</th>\n",
       "      <td>460703</td>\n",
       "      <td>NaN</td>\n",
       "    </tr>\n",
       "    <tr>\n",
       "      <th>...</th>\n",
       "      <td>...</td>\n",
       "      <td>...</td>\n",
       "    </tr>\n",
       "    <tr>\n",
       "      <th>8302275</th>\n",
       "      <td>1123885</td>\n",
       "      <td>NaN</td>\n",
       "    </tr>\n",
       "    <tr>\n",
       "      <th>1948278</th>\n",
       "      <td>839798</td>\n",
       "      <td>NaN</td>\n",
       "    </tr>\n",
       "    <tr>\n",
       "      <th>9870659</th>\n",
       "      <td>649940</td>\n",
       "      <td>NaN</td>\n",
       "    </tr>\n",
       "    <tr>\n",
       "      <th>1765768</th>\n",
       "      <td>796509</td>\n",
       "      <td>NaN</td>\n",
       "    </tr>\n",
       "    <tr>\n",
       "      <th>8168288</th>\n",
       "      <td>700882</td>\n",
       "      <td>NaN</td>\n",
       "    </tr>\n",
       "  </tbody>\n",
       "</table>\n",
       "<p>12835283 rows × 2 columns</p>\n",
       "</div>"
      ],
      "text/plain": [
       "          sa_id_CODE category_id_CODE\n",
       "11999337      278987              NaN\n",
       "8141526       386253              NaN\n",
       "12344380     1880334              NaN\n",
       "9598807       597462              NaN\n",
       "2416674       460703              NaN\n",
       "...              ...              ...\n",
       "8302275      1123885              NaN\n",
       "1948278       839798              NaN\n",
       "9870659       649940              NaN\n",
       "1765768       796509              NaN\n",
       "8168288       700882              NaN\n",
       "\n",
       "[12835283 rows x 2 columns]"
      ]
     },
     "execution_count": 12,
     "metadata": {},
     "output_type": "execute_result"
    }
   ],
   "source": [
    "train0 = pd.DataFrame(columns=['sa_id_CODE', 'category_id_CODE'])\n",
    "train0['sa_id_CODE'] = train['sa_id_CODE']\n",
    "train0"
   ]
  },
  {
   "cell_type": "code",
   "execution_count": 13,
   "id": "44d05bdf-7708-4833-a6b5-d0af8faa138e",
   "metadata": {},
   "outputs": [],
   "source": [
    "train1 = train0.copy()\n",
    "train2 = train0.copy()\n",
    "train3 = train0.copy()\n",
    "train4 = train0.copy()\n",
    "train5 = train0.copy()"
   ]
  },
  {
   "cell_type": "code",
   "execution_count": 14,
   "id": "67ed2fd7-76dc-408b-80f4-296056e46be9",
   "metadata": {},
   "outputs": [],
   "source": [
    "train1['category_id_CODE'] = rand1\n",
    "train1['rating_5'] = 0\n",
    "train2['category_id_CODE'] = rand2\n",
    "train2['rating_5'] = 0\n",
    "train3['category_id_CODE'] = rand3\n",
    "train3['rating_5'] = 0\n",
    "train4['category_id_CODE'] = rand4\n",
    "train4['rating_5'] = 0\n",
    "train5['category_id_CODE'] = rand5\n",
    "train5['rating_5'] = 0"
   ]
  },
  {
   "cell_type": "code",
   "execution_count": 15,
   "id": "c5233320-9710-4117-8897-7ebf8ccff6f6",
   "metadata": {},
   "outputs": [],
   "source": [
    "train = train[['sa_id_CODE', 'category_id_CODE', 'rating_5']]"
   ]
  },
  {
   "cell_type": "code",
   "execution_count": 16,
   "id": "1e8136ff-3de8-4820-8f03-24529cc5e13e",
   "metadata": {},
   "outputs": [],
   "source": [
    "train = pd.concat([train, train1, train2, train3, train4, train5]) # 77011698"
   ]
  },
  {
   "cell_type": "code",
   "execution_count": 17,
   "id": "2862e9dc-9b22-4059-8e8f-7828bbacea43",
   "metadata": {},
   "outputs": [],
   "source": [
    "# user feature merge\n",
    "user_data = pd.read_pickle(os.path.join(procdata_path, 'user.pkl'))\n",
    "user_data = user_data[['sa_id_CODE', 'seg_1', 'seg_2', 'seg_3', 'seg_4']]\n",
    "# item feature merge\n",
    "item_data = pd.read_pickle(os.path.join(procdata_path, 'item.pkl'))\n",
    "item_data = item_data[['category_id_CODE', 'pr_info_CODE', 'price_CODE', 'release_date', 'run_time_ss']]"
   ]
  },
  {
   "cell_type": "code",
   "execution_count": 18,
   "id": "9bc525f4-cf9a-4bcb-a575-13d3f83883ae",
   "metadata": {},
   "outputs": [],
   "source": [
    "train = train.merge(user_data, on='sa_id_CODE')"
   ]
  },
  {
   "cell_type": "code",
   "execution_count": 19,
   "id": "fc2488f1-fe0d-41f1-9d60-554dcd4a0779",
   "metadata": {},
   "outputs": [],
   "source": [
    "train = train.merge(item_data, on='category_id_CODE')"
   ]
  },
  {
   "cell_type": "code",
   "execution_count": 20,
   "id": "7d927d09-300b-4a7b-9922-521e0c284e78",
   "metadata": {},
   "outputs": [],
   "source": [
    "del [[train1, train2, train3, train4, train5, train0, data]]\n",
    "#del train2\n",
    "#del train3\n",
    "#del train4\n",
    "#del train5\n",
    "#del train0\n",
    "#del data\n",
    "#del user_data\n",
    "#del item_data"
   ]
  },
  {
   "cell_type": "code",
   "execution_count": 21,
   "id": "4fea9d09-4922-4526-a79b-e04ac0bbe082",
   "metadata": {},
   "outputs": [],
   "source": [
    "# 셔플\n",
    "train = train.sample(frac=1).reset_index(drop=True)"
   ]
  },
  {
   "cell_type": "code",
   "execution_count": 23,
   "id": "cb7731c8-bb4c-43d3-b005-51412ffb8428",
   "metadata": {},
   "outputs": [],
   "source": [
    "# save\n",
    "train.to_pickle(os.path.join(procdata_path, 'train.pkl'))"
   ]
  },
  {
   "cell_type": "code",
   "execution_count": 24,
   "id": "50371f01-3386-4f83-8efa-8002c01f1695",
   "metadata": {},
   "outputs": [],
   "source": [
    "# save\n",
    "test.to_pickle(os.path.join(procdata_path, 'test.pkl'))"
   ]
  },
  {
   "cell_type": "code",
   "execution_count": 12,
   "id": "64529521-ffdb-488c-8a83-f9d85948892b",
   "metadata": {},
   "outputs": [],
   "source": [
    "del [[train, test]]\n",
    "del data"
   ]
  },
  {
   "cell_type": "code",
   "execution_count": 13,
   "id": "72472c03-b84b-4aaa-af40-b76f721b3c1b",
   "metadata": {},
   "outputs": [],
   "source": [
    "train = pd.read_pickle(os.path.join(procdata_path, 'train.pkl'))\n",
    "test = pd.read_pickle(os.path.join(procdata_path, 'test.pkl'))"
   ]
  },
  {
   "cell_type": "code",
   "execution_count": 15,
   "id": "fd4f8292-edfa-49ce-9104-8a8dff72e307",
   "metadata": {},
   "outputs": [],
   "source": [
    "train_model_input = {name:train[name].values for name in feature_names}\n",
    "test_model_input = {name:test[name].values for name in feature_names}"
   ]
  },
  {
   "cell_type": "code",
   "execution_count": 16,
   "id": "c4498c2e-e74d-4b9b-b863-1b9db870606e",
   "metadata": {},
   "outputs": [
    {
     "data": {
      "text/plain": [
       "{'sa_id_CODE': array([ 826711,  282766,  312530, ...,  593020,  429594, 1640081]),\n",
       " 'category_id_CODE': array([11179,  9326,  2711, ...,  4587, 10396,  9774]),\n",
       " 'price_CODE': array([3, 3, 3, ..., 0, 2, 9]),\n",
       " 'pr_info_CODE': array([0, 1, 0, ..., 0, 0, 0]),\n",
       " 'seg_1': array([1.        , 1.        , 0.89999998, ..., 1.        , 1.        ,\n",
       "        1.        ]),\n",
       " 'seg_2': array([0., 0., 0., ..., 0., 0., 0.]),\n",
       " 'seg_3': array([0.  , 0.  , 0.07, ..., 0.  , 0.  , 0.  ]),\n",
       " 'seg_4': array([0.  , 0.  , 0.03, ..., 0.  , 0.  , 0.  ]),\n",
       " 'release_date': array([0.95861112, 0.98945863, 0.97958747, ..., 0.94756976, 0.8406508 ,\n",
       "        0.86255161]),\n",
       " 'run_time_ss': array([0.22659587, 0.19204279, 0.2464889 , ..., 0.14960175, 0.23713879,\n",
       "        0.24652738])}"
      ]
     },
     "execution_count": 16,
     "metadata": {},
     "output_type": "execute_result"
    }
   ],
   "source": [
    "train_model_input"
   ]
  },
  {
   "cell_type": "code",
   "execution_count": 17,
   "id": "a5e772c0-858e-4fec-9d6c-05be7bc6f5f7",
   "metadata": {},
   "outputs": [],
   "source": [
    "model = DeepFM(linear_feature_columns,\n",
    "                            dnn_feature_columns,\n",
    "                            dnn_hidden_units=(num_hidden, num_hidden),\n",
    "                            dnn_dropout=dropout,\n",
    "                            task=task)\n",
    "        \n",
    "if learner.lower() == \"adagrad\": \n",
    "    opt = tf.keras.optimizers.Adagrad(lr=lr,  decay=lr_decay)\n",
    "elif learner.lower() == \"rmsprop\":\n",
    "    opt = tf.keras.optimizers.RMSprop(lr=lr,  decay=lr_decay)\n",
    "elif learner.lower() == \"adam\":\n",
    "    opt = tf.keras.optimizers.Adam(lr=lr, decay=lr_decay)\n",
    "else:\n",
    "    opt = tf.keras.optimizers.SGD(lr=lr,  decay=lr_decay)\n",
    "\n",
    "model.compile(opt, 'mse', metrics=['mse',tf.keras.metrics.RootMeanSquaredError()])"
   ]
  },
  {
   "cell_type": "code",
   "execution_count": 18,
   "id": "74179a6f-d341-4b3a-b4f9-aec2902c24ca",
   "metadata": {},
   "outputs": [
    {
     "name": "stdout",
     "output_type": "stream",
     "text": [
      "2351/2351 [==============================] - 111s 46ms/step - loss: 1.7008 - mse: 1.6826 - root_mean_squared_error: 1.2903 - val_loss: 4.2265 - val_mse: 4.1761 - val_root_mean_squared_error: 2.0436\n",
      "Epoch 2/2\n",
      "2351/2351 [==============================] - 111s 46ms/step - loss: 1.2537 - mse: 1.1952 - root_mean_squared_error: 1.0932 - val_loss: 3.9806 - val_mse: 3.9190 - val_root_mean_squared_error: 1.9797\n",
      "Epoch 3/3\n",
      "2351/2351 [==============================] - 113s 47ms/step - loss: 1.1645 - mse: 1.1008 - root_mean_squared_error: 1.0492 - val_loss: 3.9961 - val_mse: 3.9318 - val_root_mean_squared_error: 1.9829\n",
      "Epoch 4/4\n",
      "2351/2351 [==============================] - 115s 48ms/step - loss: 1.1039 - mse: 1.0401 - root_mean_squared_error: 1.0198 - val_loss: 3.9773 - val_mse: 3.9138 - val_root_mean_squared_error: 1.9783\n"
     ]
    }
   ],
   "source": [
    "epochs = 4\n",
    "best_loss = epochs\n",
    "        \n",
    "for epoch in range(epochs):\n",
    "\n",
    "    # Training\n",
    "    hist = model.fit(train_model_input, #input\n",
    "                          train[target_5].values, # labels\n",
    "                          validation_data=(test_model_input, test[target_5].values),\n",
    "                          batch_size=batch_size,\n",
    "                          initial_epoch=epoch, epochs=epoch + 1, \n",
    "                          verbose=1, \n",
    "                          shuffle=True)\n",
    "\n",
    "    train_loss = hist.history['loss'][0]\n",
    "    train_rmse = hist.history['root_mean_squared_error'][0]\n",
    "    val_loss = hist.history['val_loss'][0]\n",
    "    val_rmse = hist.history['val_root_mean_squared_error'][0]\n",
    "\n",
    "\n",
    "    if val_loss < best_loss :\n",
    "        best_loss = val_loss\n",
    "        model.save_weights(os.path.join(model_path_5_f, 'best.h5'))"
   ]
  },
  {
   "cell_type": "code",
   "execution_count": 19,
   "id": "eca845dc-cfaa-474c-a238-0d583ef28956",
   "metadata": {},
   "outputs": [],
   "source": [
    "model.save_weights(os.path.join(model_path_5_f, 'best.h5'))"
   ]
  },
  {
   "cell_type": "code",
   "execution_count": 20,
   "id": "111b7c25-875b-4f3b-86f9-6f02cfbe040c",
   "metadata": {},
   "outputs": [
    {
     "name": "stderr",
     "output_type": "stream",
     "text": [
      "WARNING:absl:Found untraced functions such as dropout_layer_call_fn, dropout_layer_call_and_return_conditional_losses, dropout_1_layer_call_fn, dropout_1_layer_call_and_return_conditional_losses, activation_layer_call_fn while saving (showing 5 of 20). These functions will not be directly callable after loading.\n",
      "WARNING:absl:Found untraced functions such as dropout_layer_call_fn, dropout_layer_call_and_return_conditional_losses, dropout_1_layer_call_fn, dropout_1_layer_call_and_return_conditional_losses, activation_layer_call_fn while saving (showing 5 of 20). These functions will not be directly callable after loading.\n"
     ]
    },
    {
     "name": "stdout",
     "output_type": "stream",
     "text": [
      "INFO:tensorflow:Assets written to: /home/lms/ms/poc/deepfm/model/model_5_f/bestmodel/assets\n"
     ]
    },
    {
     "name": "stderr",
     "output_type": "stream",
     "text": [
      "INFO:tensorflow:Assets written to: /home/lms/ms/poc/deepfm/model/model_5_f/bestmodel/assets\n"
     ]
    }
   ],
   "source": [
    "model.load_weights(os.path.join(model_path_5_f, 'best.h5'))\n",
    "tf.keras.models.save_model(model, os.path.join(model_path_5_f, 'bestmodel'))"
   ]
  },
  {
   "cell_type": "code",
   "execution_count": null,
   "id": "047493e1-efe4-4fd3-9455-736398ede586",
   "metadata": {},
   "outputs": [],
   "source": []
  },
  {
   "cell_type": "code",
   "execution_count": null,
   "id": "d43f24a0-24e8-4aec-ba0c-7685c7acdf31",
   "metadata": {},
   "outputs": [],
   "source": []
  }
 ],
 "metadata": {
  "kernelspec": {
   "display_name": "tf_deepctr",
   "language": "python",
   "name": "tf_deepctr"
  },
  "language_info": {
   "codemirror_mode": {
    "name": "ipython",
    "version": 3
   },
   "file_extension": ".py",
   "mimetype": "text/x-python",
   "name": "python",
   "nbconvert_exporter": "python",
   "pygments_lexer": "ipython3",
   "version": "3.6.13"
  }
 },
 "nbformat": 4,
 "nbformat_minor": 5
}
