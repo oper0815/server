{
 "cells": [
  {
   "cell_type": "code",
   "execution_count": 1,
   "id": "d4f239a7-c292-4f51-a2de-c9d9a95c211b",
   "metadata": {},
   "outputs": [],
   "source": [
    "import os\n",
    "import tqdm\n",
    "import numpy as np\n",
    "import pandas as pd\n",
    "import tensorflow as tf\n",
    "from os.path import isfile, join\n",
    "import time\n",
    "import math\n",
    "import logging\n",
    "from tqdm import tqdm, tqdm_pandas\n",
    "\n",
    "from deepctr.models import DeepFM\n",
    "from deepctr.feature_column import SparseFeat,DenseFeat, get_feature_names, VarLenSparseFeat"
   ]
  },
  {
   "cell_type": "code",
   "execution_count": 2,
   "id": "ef5b7e8b-280b-46c3-82ab-235028e16e66",
   "metadata": {},
   "outputs": [
    {
     "name": "stdout",
     "output_type": "stream",
     "text": [
      "tensorflow version :  2.4.4\n",
      "keras version :  2.4.0\n",
      "WARNING:tensorflow:From <ipython-input-2-bce55ae48cea>:15: is_gpu_available (from tensorflow.python.framework.test_util) is deprecated and will be removed in a future version.\n",
      "Instructions for updating:\n",
      "Use `tf.config.list_physical_devices('GPU')` instead.\n",
      "GPU available ? :  True\n"
     ]
    }
   ],
   "source": [
    "# gpu number setting\n",
    "\n",
    "os.environ['CUDA_DEVICE_ORDER'] = 'PCI_BUS_ID'\n",
    "os.environ[\"CUDA_VISIBLE_DEVICES\"] = '0'\n",
    "\n",
    "config = tf.compat.v1.ConfigProto()\n",
    "config.gpu_options.allow_growth = True\n",
    "session = tf.compat.v1.Session(config=config)\n",
    "\n",
    "# tensorflow & keras version check\n",
    "print('tensorflow version : ' , tf.__version__)\n",
    "print('keras version : ' , tf.keras.__version__)\n",
    "\n",
    "# tensorflow gpu available check \n",
    "print('GPU available ? : ', tf.test.is_gpu_available(cuda_only=False, min_cuda_compute_capability=None))\n"
   ]
  },
  {
   "cell_type": "code",
   "execution_count": 3,
   "id": "6bc1c1b2-71fa-45ed-80be-9d8ecbc20b78",
   "metadata": {},
   "outputs": [],
   "source": [
    "basedir = '/home/lms/ms/poc'\n",
    "rawdata_path = join(basedir, 'dataset')\n",
    "procdata_path = join(basedir, 'deepfm', 'dataset', 'preprocess', 'rating')\n",
    "\n",
    "model_path_5_no_f= join(basedir, 'deepfm', 'model', 'model_5_no_f')\n",
    "model_path_r_no_f= join(basedir, 'deepfm', 'model', 'model_r_no_f')\n",
    "model_path_5_f= join(basedir, 'deepfm', 'model', 'model_5_f')\n",
    "model_path_r_f= join(basedir, 'deepfm', 'model', 'model_r_f')\n",
    "\n",
    "target_5 = 'rating_5'\n",
    "target_r = 'rating_r'\n",
    "epochs=20\n",
    "batch_size=2**15\n",
    "learner='adam'\n",
    "num_hidden=256\n",
    "task='regression'\n",
    "dropout=0.6\n",
    "lr=0.001\n",
    "lr_decay=0.0001\n",
    "embedding_dim=5\n",
    "data_filename='hist.pkl'"
   ]
  },
  {
   "cell_type": "code",
   "execution_count": 4,
   "id": "10759961-774c-49bd-9bb7-4c5d4b6da484",
   "metadata": {
    "tags": []
   },
   "outputs": [
    {
     "data": {
      "text/html": [
       "<div>\n",
       "<style scoped>\n",
       "    .dataframe tbody tr th:only-of-type {\n",
       "        vertical-align: middle;\n",
       "    }\n",
       "\n",
       "    .dataframe tbody tr th {\n",
       "        vertical-align: top;\n",
       "    }\n",
       "\n",
       "    .dataframe thead th {\n",
       "        text-align: right;\n",
       "    }\n",
       "</style>\n",
       "<table border=\"1\" class=\"dataframe\">\n",
       "  <thead>\n",
       "    <tr style=\"text-align: right;\">\n",
       "      <th></th>\n",
       "      <th>sa_id_CODE</th>\n",
       "      <th>category_id_CODE</th>\n",
       "      <th>rating_r</th>\n",
       "      <th>rating_5</th>\n",
       "      <th>seg_1</th>\n",
       "      <th>seg_2</th>\n",
       "      <th>seg_3</th>\n",
       "      <th>seg_4</th>\n",
       "      <th>pr_info_CODE</th>\n",
       "      <th>price_CODE</th>\n",
       "      <th>release_date</th>\n",
       "      <th>run_time_ss</th>\n",
       "    </tr>\n",
       "  </thead>\n",
       "  <tbody>\n",
       "    <tr>\n",
       "      <th>0</th>\n",
       "      <td>0</td>\n",
       "      <td>0</td>\n",
       "      <td>4.5</td>\n",
       "      <td>5</td>\n",
       "      <td>1.00</td>\n",
       "      <td>0.0</td>\n",
       "      <td>0.00</td>\n",
       "      <td>0.00</td>\n",
       "      <td>0</td>\n",
       "      <td>0</td>\n",
       "      <td>0.990018</td>\n",
       "      <td>0.17365</td>\n",
       "    </tr>\n",
       "    <tr>\n",
       "      <th>1</th>\n",
       "      <td>1</td>\n",
       "      <td>0</td>\n",
       "      <td>5.0</td>\n",
       "      <td>5</td>\n",
       "      <td>0.97</td>\n",
       "      <td>0.0</td>\n",
       "      <td>0.03</td>\n",
       "      <td>0.00</td>\n",
       "      <td>0</td>\n",
       "      <td>0</td>\n",
       "      <td>0.990018</td>\n",
       "      <td>0.17365</td>\n",
       "    </tr>\n",
       "    <tr>\n",
       "      <th>2</th>\n",
       "      <td>2</td>\n",
       "      <td>0</td>\n",
       "      <td>4.5</td>\n",
       "      <td>5</td>\n",
       "      <td>0.97</td>\n",
       "      <td>0.0</td>\n",
       "      <td>0.03</td>\n",
       "      <td>0.00</td>\n",
       "      <td>0</td>\n",
       "      <td>0</td>\n",
       "      <td>0.990018</td>\n",
       "      <td>0.17365</td>\n",
       "    </tr>\n",
       "    <tr>\n",
       "      <th>3</th>\n",
       "      <td>3</td>\n",
       "      <td>0</td>\n",
       "      <td>5.0</td>\n",
       "      <td>5</td>\n",
       "      <td>0.98</td>\n",
       "      <td>0.0</td>\n",
       "      <td>0.01</td>\n",
       "      <td>0.01</td>\n",
       "      <td>0</td>\n",
       "      <td>0</td>\n",
       "      <td>0.990018</td>\n",
       "      <td>0.17365</td>\n",
       "    </tr>\n",
       "    <tr>\n",
       "      <th>4</th>\n",
       "      <td>4</td>\n",
       "      <td>0</td>\n",
       "      <td>4.5</td>\n",
       "      <td>5</td>\n",
       "      <td>0.86</td>\n",
       "      <td>0.0</td>\n",
       "      <td>0.01</td>\n",
       "      <td>0.13</td>\n",
       "      <td>0</td>\n",
       "      <td>0</td>\n",
       "      <td>0.990018</td>\n",
       "      <td>0.17365</td>\n",
       "    </tr>\n",
       "  </tbody>\n",
       "</table>\n",
       "</div>"
      ],
      "text/plain": [
       "   sa_id_CODE  category_id_CODE  rating_r  rating_5  seg_1  seg_2  seg_3  \\\n",
       "0           0                 0       4.5         5   1.00    0.0   0.00   \n",
       "1           1                 0       5.0         5   0.97    0.0   0.03   \n",
       "2           2                 0       4.5         5   0.97    0.0   0.03   \n",
       "3           3                 0       5.0         5   0.98    0.0   0.01   \n",
       "4           4                 0       4.5         5   0.86    0.0   0.01   \n",
       "\n",
       "   seg_4  pr_info_CODE  price_CODE  release_date  run_time_ss  \n",
       "0   0.00             0           0      0.990018      0.17365  \n",
       "1   0.00             0           0      0.990018      0.17365  \n",
       "2   0.00             0           0      0.990018      0.17365  \n",
       "3   0.01             0           0      0.990018      0.17365  \n",
       "4   0.13             0           0      0.990018      0.17365  "
      ]
     },
     "execution_count": 4,
     "metadata": {},
     "output_type": "execute_result"
    }
   ],
   "source": [
    "data = pd.read_pickle(os.path.join(procdata_path, data_filename))\n",
    "data.head()"
   ]
  },
  {
   "cell_type": "code",
   "execution_count": 5,
   "id": "615d77ee-a7b2-4071-bdbf-11f31865f35b",
   "metadata": {},
   "outputs": [],
   "source": [
    "sparse_features = ['sa_id_CODE','category_id_CODE'] # nominal variable"
   ]
  },
  {
   "cell_type": "code",
   "execution_count": 6,
   "id": "989f1b8a-2d83-4f91-8335-fb3e46bbd368",
   "metadata": {},
   "outputs": [],
   "source": [
    "fixlen_feature_columns = [SparseFeat(feat, data[feat].nunique(), embedding_dim=embedding_dim) \n",
    "                                  for feat in sparse_features]\n",
    "\n",
    "linear_feature_columns = fixlen_feature_columns\n",
    "dnn_feature_columns = fixlen_feature_columns\n",
    "\n",
    "feature_names = get_feature_names(linear_feature_columns + dnn_feature_columns)"
   ]
  },
  {
   "cell_type": "code",
   "execution_count": 7,
   "id": "58657374-3a46-49cd-9bb5-2414b6b2b6cf",
   "metadata": {},
   "outputs": [
    {
     "data": {
      "text/plain": [
       "[SparseFeat(name='sa_id_CODE', vocabulary_size=1973461, embedding_dim=5, use_hash=False, vocabulary_path=None, dtype='int32', embeddings_initializer=<tensorflow.python.keras.initializers.initializers_v1.RandomNormal object at 0x7f7cb5ba3cc0>, embedding_name='sa_id_CODE', group_name='default_group', trainable=True),\n",
       " SparseFeat(name='category_id_CODE', vocabulary_size=17221, embedding_dim=5, use_hash=False, vocabulary_path=None, dtype='int32', embeddings_initializer=<tensorflow.python.keras.initializers.initializers_v1.RandomNormal object at 0x7f7cb642db00>, embedding_name='category_id_CODE', group_name='default_group', trainable=True)]"
      ]
     },
     "execution_count": 7,
     "metadata": {},
     "output_type": "execute_result"
    }
   ],
   "source": [
    "fixlen_feature_columns"
   ]
  },
  {
   "cell_type": "code",
   "execution_count": 8,
   "id": "37756ead-19c3-480d-8d88-91d345817e9e",
   "metadata": {},
   "outputs": [
    {
     "data": {
      "text/html": [
       "<div>\n",
       "<style scoped>\n",
       "    .dataframe tbody tr th:only-of-type {\n",
       "        vertical-align: middle;\n",
       "    }\n",
       "\n",
       "    .dataframe tbody tr th {\n",
       "        vertical-align: top;\n",
       "    }\n",
       "\n",
       "    .dataframe thead th {\n",
       "        text-align: right;\n",
       "    }\n",
       "</style>\n",
       "<table border=\"1\" class=\"dataframe\">\n",
       "  <thead>\n",
       "    <tr style=\"text-align: right;\">\n",
       "      <th></th>\n",
       "      <th>sa_id_CODE</th>\n",
       "      <th>category_id_CODE</th>\n",
       "      <th>rating_r</th>\n",
       "    </tr>\n",
       "  </thead>\n",
       "  <tbody>\n",
       "    <tr>\n",
       "      <th>0</th>\n",
       "      <td>0</td>\n",
       "      <td>0</td>\n",
       "      <td>4.5</td>\n",
       "    </tr>\n",
       "    <tr>\n",
       "      <th>1</th>\n",
       "      <td>1</td>\n",
       "      <td>0</td>\n",
       "      <td>5.0</td>\n",
       "    </tr>\n",
       "    <tr>\n",
       "      <th>2</th>\n",
       "      <td>2</td>\n",
       "      <td>0</td>\n",
       "      <td>4.5</td>\n",
       "    </tr>\n",
       "    <tr>\n",
       "      <th>3</th>\n",
       "      <td>3</td>\n",
       "      <td>0</td>\n",
       "      <td>5.0</td>\n",
       "    </tr>\n",
       "    <tr>\n",
       "      <th>4</th>\n",
       "      <td>4</td>\n",
       "      <td>0</td>\n",
       "      <td>4.5</td>\n",
       "    </tr>\n",
       "  </tbody>\n",
       "</table>\n",
       "</div>"
      ],
      "text/plain": [
       "   sa_id_CODE  category_id_CODE  rating_r\n",
       "0           0                 0       4.5\n",
       "1           1                 0       5.0\n",
       "2           2                 0       4.5\n",
       "3           3                 0       5.0\n",
       "4           4                 0       4.5"
      ]
     },
     "execution_count": 8,
     "metadata": {},
     "output_type": "execute_result"
    }
   ],
   "source": [
    "data = data[['sa_id_CODE', 'category_id_CODE', 'rating_r']]\n",
    "data.head()"
   ]
  },
  {
   "cell_type": "code",
   "execution_count": 9,
   "id": "e39b270f-3e92-4b59-936c-b9208cc0b244",
   "metadata": {},
   "outputs": [],
   "source": [
    "from sklearn.metrics import mean_squared_error\n",
    "from sklearn.model_selection import train_test_split\n",
    "\n",
    "train, test = train_test_split(data, test_size=0.2, random_state=2020)"
   ]
  },
  {
   "cell_type": "code",
   "execution_count": 10,
   "id": "2d92125e-3359-4341-9ec8-85fb1a06f5c2",
   "metadata": {},
   "outputs": [],
   "source": [
    "# negative random sampling\n",
    "max_code = data['category_id_CODE'].values.tolist()\n",
    "max_num = max(max_code)"
   ]
  },
  {
   "cell_type": "code",
   "execution_count": 11,
   "id": "f2102cb4-0bfa-4d34-9851-62ca4e6deb51",
   "metadata": {},
   "outputs": [],
   "source": [
    "np.random.seed = 2020\n",
    "rand1 = np.random.randint(max_num, size=len(train)) # 12511\n",
    "rand2 = np.random.randint(max_num, size=len(train))\n",
    "rand3 = np.random.randint(max_num, size=len(train))\n",
    "rand4 = np.random.randint(max_num, size=len(train))\n",
    "rand5 = np.random.randint(max_num, size=len(train))"
   ]
  },
  {
   "cell_type": "code",
   "execution_count": 12,
   "id": "44d05bdf-7708-4833-a6b5-d0af8faa138e",
   "metadata": {},
   "outputs": [],
   "source": [
    "train1 = train.copy()\n",
    "train2 = train.copy()\n",
    "train3 = train.copy()\n",
    "train4 = train.copy()\n",
    "train5 = train.copy()"
   ]
  },
  {
   "cell_type": "code",
   "execution_count": 13,
   "id": "67ed2fd7-76dc-408b-80f4-296056e46be9",
   "metadata": {},
   "outputs": [],
   "source": [
    "train1['category_id_CODE'] = rand1\n",
    "train1['rating_r'] = 0\n",
    "train2['category_id_CODE'] = rand2\n",
    "train2['rating_r'] = 0\n",
    "train3['category_id_CODE'] = rand3\n",
    "train3['rating_r'] = 0\n",
    "train4['category_id_CODE'] = rand4\n",
    "train4['rating_r'] = 0\n",
    "train5['category_id_CODE'] = rand5\n",
    "train5['rating_r'] = 0"
   ]
  },
  {
   "cell_type": "code",
   "execution_count": 14,
   "id": "f4f9b7ec-0190-463b-9b5a-7d3279cc573a",
   "metadata": {},
   "outputs": [
    {
     "data": {
      "text/html": [
       "<div>\n",
       "<style scoped>\n",
       "    .dataframe tbody tr th:only-of-type {\n",
       "        vertical-align: middle;\n",
       "    }\n",
       "\n",
       "    .dataframe tbody tr th {\n",
       "        vertical-align: top;\n",
       "    }\n",
       "\n",
       "    .dataframe thead th {\n",
       "        text-align: right;\n",
       "    }\n",
       "</style>\n",
       "<table border=\"1\" class=\"dataframe\">\n",
       "  <thead>\n",
       "    <tr style=\"text-align: right;\">\n",
       "      <th></th>\n",
       "      <th>sa_id_CODE</th>\n",
       "      <th>category_id_CODE</th>\n",
       "      <th>rating_r</th>\n",
       "    </tr>\n",
       "  </thead>\n",
       "  <tbody>\n",
       "    <tr>\n",
       "      <th>11999337</th>\n",
       "      <td>278987</td>\n",
       "      <td>1752</td>\n",
       "      <td>4.50000</td>\n",
       "    </tr>\n",
       "    <tr>\n",
       "      <th>8141526</th>\n",
       "      <td>386253</td>\n",
       "      <td>523</td>\n",
       "      <td>4.50000</td>\n",
       "    </tr>\n",
       "    <tr>\n",
       "      <th>12344380</th>\n",
       "      <td>1880334</td>\n",
       "      <td>1900</td>\n",
       "      <td>4.50000</td>\n",
       "    </tr>\n",
       "    <tr>\n",
       "      <th>9598807</th>\n",
       "      <td>597462</td>\n",
       "      <td>820</td>\n",
       "      <td>4.40675</td>\n",
       "    </tr>\n",
       "    <tr>\n",
       "      <th>2416674</th>\n",
       "      <td>460703</td>\n",
       "      <td>92</td>\n",
       "      <td>4.88550</td>\n",
       "    </tr>\n",
       "    <tr>\n",
       "      <th>...</th>\n",
       "      <td>...</td>\n",
       "      <td>...</td>\n",
       "      <td>...</td>\n",
       "    </tr>\n",
       "    <tr>\n",
       "      <th>8302275</th>\n",
       "      <td>1123885</td>\n",
       "      <td>8932</td>\n",
       "      <td>0.00000</td>\n",
       "    </tr>\n",
       "    <tr>\n",
       "      <th>1948278</th>\n",
       "      <td>839798</td>\n",
       "      <td>1561</td>\n",
       "      <td>0.00000</td>\n",
       "    </tr>\n",
       "    <tr>\n",
       "      <th>9870659</th>\n",
       "      <td>649940</td>\n",
       "      <td>6709</td>\n",
       "      <td>0.00000</td>\n",
       "    </tr>\n",
       "    <tr>\n",
       "      <th>1765768</th>\n",
       "      <td>796509</td>\n",
       "      <td>2349</td>\n",
       "      <td>0.00000</td>\n",
       "    </tr>\n",
       "    <tr>\n",
       "      <th>8168288</th>\n",
       "      <td>700882</td>\n",
       "      <td>15330</td>\n",
       "      <td>0.00000</td>\n",
       "    </tr>\n",
       "  </tbody>\n",
       "</table>\n",
       "<p>77011698 rows × 3 columns</p>\n",
       "</div>"
      ],
      "text/plain": [
       "          sa_id_CODE  category_id_CODE  rating_r\n",
       "11999337      278987              1752   4.50000\n",
       "8141526       386253               523   4.50000\n",
       "12344380     1880334              1900   4.50000\n",
       "9598807       597462               820   4.40675\n",
       "2416674       460703                92   4.88550\n",
       "...              ...               ...       ...\n",
       "8302275      1123885              8932   0.00000\n",
       "1948278       839798              1561   0.00000\n",
       "9870659       649940              6709   0.00000\n",
       "1765768       796509              2349   0.00000\n",
       "8168288       700882             15330   0.00000\n",
       "\n",
       "[77011698 rows x 3 columns]"
      ]
     },
     "execution_count": 14,
     "metadata": {},
     "output_type": "execute_result"
    }
   ],
   "source": [
    "train = pd.concat([train, train1, train2, train3, train4, train5]) # 77011698\n",
    "train"
   ]
  },
  {
   "cell_type": "code",
   "execution_count": 15,
   "id": "4fea9d09-4922-4526-a79b-e04ac0bbe082",
   "metadata": {},
   "outputs": [],
   "source": [
    "# 셔플\n",
    "train = train.sample(frac=1).reset_index(drop=True)"
   ]
  },
  {
   "cell_type": "code",
   "execution_count": 16,
   "id": "fd4f8292-edfa-49ce-9104-8a8dff72e307",
   "metadata": {},
   "outputs": [],
   "source": [
    "train_model_input = {name:train[name].values for name in feature_names}\n",
    "test_model_input = {name:test[name].values for name in feature_names}"
   ]
  },
  {
   "cell_type": "code",
   "execution_count": 17,
   "id": "c4498c2e-e74d-4b9b-b863-1b9db870606e",
   "metadata": {},
   "outputs": [
    {
     "data": {
      "text/plain": [
       "{'sa_id_CODE': array([104567, 823509,  71099, ..., 788536, 765919, 466828]),\n",
       " 'category_id_CODE': array([6879, 4786, 6275, ..., 5580, 7254, 1659])}"
      ]
     },
     "execution_count": 17,
     "metadata": {},
     "output_type": "execute_result"
    }
   ],
   "source": [
    "train_model_input"
   ]
  },
  {
   "cell_type": "code",
   "execution_count": 18,
   "id": "ec8a4d54-fabd-4e42-9ab4-db527a5a2f5c",
   "metadata": {},
   "outputs": [
    {
     "data": {
      "text/html": [
       "<div>\n",
       "<style scoped>\n",
       "    .dataframe tbody tr th:only-of-type {\n",
       "        vertical-align: middle;\n",
       "    }\n",
       "\n",
       "    .dataframe tbody tr th {\n",
       "        vertical-align: top;\n",
       "    }\n",
       "\n",
       "    .dataframe thead th {\n",
       "        text-align: right;\n",
       "    }\n",
       "</style>\n",
       "<table border=\"1\" class=\"dataframe\">\n",
       "  <thead>\n",
       "    <tr style=\"text-align: right;\">\n",
       "      <th></th>\n",
       "      <th>sa_id_CODE</th>\n",
       "      <th>category_id_CODE</th>\n",
       "      <th>rating_r</th>\n",
       "    </tr>\n",
       "  </thead>\n",
       "  <tbody>\n",
       "    <tr>\n",
       "      <th>10838611</th>\n",
       "      <td>503022</td>\n",
       "      <td>1188</td>\n",
       "      <td>4.50000</td>\n",
       "    </tr>\n",
       "    <tr>\n",
       "      <th>15979174</th>\n",
       "      <td>652914</td>\n",
       "      <td>11948</td>\n",
       "      <td>4.50000</td>\n",
       "    </tr>\n",
       "    <tr>\n",
       "      <th>4541125</th>\n",
       "      <td>502835</td>\n",
       "      <td>166</td>\n",
       "      <td>5.00000</td>\n",
       "    </tr>\n",
       "    <tr>\n",
       "      <th>14053222</th>\n",
       "      <td>352951</td>\n",
       "      <td>3104</td>\n",
       "      <td>4.50000</td>\n",
       "    </tr>\n",
       "    <tr>\n",
       "      <th>8806112</th>\n",
       "      <td>643387</td>\n",
       "      <td>669</td>\n",
       "      <td>2.61375</td>\n",
       "    </tr>\n",
       "  </tbody>\n",
       "</table>\n",
       "</div>"
      ],
      "text/plain": [
       "          sa_id_CODE  category_id_CODE  rating_r\n",
       "10838611      503022              1188   4.50000\n",
       "15979174      652914             11948   4.50000\n",
       "4541125       502835               166   5.00000\n",
       "14053222      352951              3104   4.50000\n",
       "8806112       643387               669   2.61375"
      ]
     },
     "execution_count": 18,
     "metadata": {},
     "output_type": "execute_result"
    }
   ],
   "source": [
    "test.head()"
   ]
  },
  {
   "cell_type": "code",
   "execution_count": 19,
   "id": "a5e772c0-858e-4fec-9d6c-05be7bc6f5f7",
   "metadata": {},
   "outputs": [],
   "source": [
    "model = DeepFM(linear_feature_columns,\n",
    "                            dnn_feature_columns,\n",
    "                            dnn_hidden_units=(num_hidden, num_hidden),\n",
    "                            dnn_dropout=dropout,\n",
    "                            task=task)\n",
    "        \n",
    "if learner.lower() == \"adagrad\": \n",
    "    opt = tf.keras.optimizers.Adagrad(lr=lr,  decay=lr_decay)\n",
    "elif learner.lower() == \"rmsprop\":\n",
    "    opt = tf.keras.optimizers.RMSprop(lr=lr,  decay=lr_decay)\n",
    "elif learner.lower() == \"adam\":\n",
    "    opt = tf.keras.optimizers.Adam(lr=lr, decay=lr_decay)\n",
    "else:\n",
    "    opt = tf.keras.optimizers.SGD(lr=lr,  decay=lr_decay)\n",
    "\n",
    "model.compile(opt, 'mse', metrics=['mse',tf.keras.metrics.RootMeanSquaredError()])"
   ]
  },
  {
   "cell_type": "code",
   "execution_count": 22,
   "id": "74179a6f-d341-4b3a-b4f9-aec2902c24ca",
   "metadata": {},
   "outputs": [
    {
     "name": "stdout",
     "output_type": "stream",
     "text": [
      "2351/2351 [==============================] - 105s 43ms/step - loss: 1.3483 - mse: 1.3359 - root_mean_squared_error: 1.1511 - val_loss: 4.1215 - val_mse: 4.0881 - val_root_mean_squared_error: 2.0219\n",
      "Epoch 2/2\n",
      "2351/2351 [==============================] - 104s 43ms/step - loss: 1.1166 - mse: 1.0710 - root_mean_squared_error: 1.0349 - val_loss: 3.7256 - val_mse: 3.6756 - val_root_mean_squared_error: 1.9172\n",
      "Epoch 3/3\n",
      "2351/2351 [==============================] - 103s 43ms/step - loss: 1.0214 - mse: 0.9670 - root_mean_squared_error: 0.9834 - val_loss: 3.6426 - val_mse: 3.5869 - val_root_mean_squared_error: 1.8939\n",
      "Epoch 4/4\n",
      "2351/2351 [==============================] - 103s 43ms/step - loss: 0.9577 - mse: 0.9014 - root_mean_squared_error: 0.9494 - val_loss: 3.5957 - val_mse: 3.5395 - val_root_mean_squared_error: 1.8814\n",
      "Epoch 5/5\n",
      "2351/2351 [==============================] - 102s 42ms/step - loss: 0.9145 - mse: 0.8591 - root_mean_squared_error: 0.9269 - val_loss: 3.5655 - val_mse: 3.5107 - val_root_mean_squared_error: 1.8737\n",
      "Epoch 6/6\n",
      "2351/2351 [==============================] - 102s 42ms/step - loss: 0.8831 - mse: 0.8296 - root_mean_squared_error: 0.9108 - val_loss: 3.6004 - val_mse: 3.5477 - val_root_mean_squared_error: 1.8835\n",
      "Epoch 7/7\n",
      "2351/2351 [==============================] - 102s 43ms/step - loss: 0.8583 - mse: 0.8070 - root_mean_squared_error: 0.8983 - val_loss: 3.5738 - val_mse: 3.5233 - val_root_mean_squared_error: 1.8771\n"
     ]
    }
   ],
   "source": [
    "epochs = 7\n",
    "best_loss = epochs\n",
    "        \n",
    "for epoch in range(epochs):\n",
    "\n",
    "    # Training\n",
    "    hist = model.fit(train_model_input, #input\n",
    "                          train[target_r].values, # labels\n",
    "                          validation_data=(test_model_input, test[target_r].values),\n",
    "                          batch_size=batch_size,\n",
    "                          initial_epoch=epoch, epochs=epoch + 1, \n",
    "                          verbose=1, \n",
    "                          shuffle=True)\n",
    "\n",
    "    train_loss = hist.history['loss'][0]\n",
    "    train_rmse = hist.history['root_mean_squared_error'][0]\n",
    "    val_loss = hist.history['val_loss'][0]\n",
    "    val_rmse = hist.history['val_root_mean_squared_error'][0]\n",
    "\n",
    "\n",
    "    if val_loss < best_loss :\n",
    "        best_loss = val_loss\n",
    "        model.save_weights(os.path.join(model_path_r_no_f, 'best.h5'))"
   ]
  },
  {
   "cell_type": "code",
   "execution_count": 23,
   "id": "eca845dc-cfaa-474c-a238-0d583ef28956",
   "metadata": {},
   "outputs": [],
   "source": [
    "model.save_weights(os.path.join(model_path_r_no_f, 'best.h5'))"
   ]
  },
  {
   "cell_type": "code",
   "execution_count": 24,
   "id": "111b7c25-875b-4f3b-86f9-6f02cfbe040c",
   "metadata": {},
   "outputs": [
    {
     "name": "stderr",
     "output_type": "stream",
     "text": [
      "WARNING:absl:Found untraced functions such as dropout_layer_call_and_return_conditional_losses, dropout_layer_call_fn, dropout_1_layer_call_and_return_conditional_losses, dropout_1_layer_call_fn, activation_layer_call_and_return_conditional_losses while saving (showing 5 of 20). These functions will not be directly callable after loading.\n",
      "WARNING:absl:Found untraced functions such as dropout_layer_call_and_return_conditional_losses, dropout_layer_call_fn, dropout_1_layer_call_and_return_conditional_losses, dropout_1_layer_call_fn, activation_layer_call_and_return_conditional_losses while saving (showing 5 of 20). These functions will not be directly callable after loading.\n"
     ]
    },
    {
     "name": "stdout",
     "output_type": "stream",
     "text": [
      "INFO:tensorflow:Assets written to: /home/lms/ms/poc/deepfm/model/model_r_no_f/bestmodel/assets\n"
     ]
    },
    {
     "name": "stderr",
     "output_type": "stream",
     "text": [
      "INFO:tensorflow:Assets written to: /home/lms/ms/poc/deepfm/model/model_r_no_f/bestmodel/assets\n"
     ]
    }
   ],
   "source": [
    "model.load_weights(os.path.join(model_path_r_no_f, 'best.h5'))\n",
    "tf.keras.models.save_model(model, os.path.join(model_path_r_no_f, 'bestmodel'))"
   ]
  },
  {
   "cell_type": "code",
   "execution_count": null,
   "id": "047493e1-efe4-4fd3-9455-736398ede586",
   "metadata": {},
   "outputs": [],
   "source": []
  },
  {
   "cell_type": "code",
   "execution_count": null,
   "id": "d43f24a0-24e8-4aec-ba0c-7685c7acdf31",
   "metadata": {},
   "outputs": [],
   "source": []
  }
 ],
 "metadata": {
  "kernelspec": {
   "display_name": "tf_deepctr",
   "language": "python",
   "name": "tf_deepctr"
  },
  "language_info": {
   "codemirror_mode": {
    "name": "ipython",
    "version": 3
   },
   "file_extension": ".py",
   "mimetype": "text/x-python",
   "name": "python",
   "nbconvert_exporter": "python",
   "pygments_lexer": "ipython3",
   "version": "3.6.13"
  }
 },
 "nbformat": 4,
 "nbformat_minor": 5
}
