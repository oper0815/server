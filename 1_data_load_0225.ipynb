{
 "cells": [
  {
   "cell_type": "code",
   "execution_count": 1,
   "id": "ac7ab83c-3b69-4bc8-886b-c8ab08c56f37",
   "metadata": {},
   "outputs": [],
   "source": [
    "################## preprocessing ###################\n",
    "#################################################### \n",
    "####################################################\n",
    "import pandas as pd\n",
    "from os.path import isfile, join\n",
    "import os\n",
    "import logging\n",
    "import argparse\n",
    "from sklearn.preprocessing import LabelEncoder, MinMaxScaler\n",
    "\n",
    "date = '20220126'\n",
    "basedir = '/home/lms/ms/poc'\n",
    "rawdata_path = join(basedir, 'dataset')\n",
    "procdata_path = join(basedir, 'deepfm', 'dataset', 'preprocess', 'rating')\n",
    "procdata_path_r = join(basedir, 'deepfm', 'dataset', 'preprocess', 'rating')"
   ]
  },
  {
   "cell_type": "code",
   "execution_count": 2,
   "id": "cc60404c-72fd-4d8f-8fa7-d74bb49fde01",
   "metadata": {},
   "outputs": [],
   "source": [
    "user_data = pd.read_pickle(os.path.join(rawdata_path, 'user.pkl')) # unique id = 2047776\n",
    "item_data = pd.read_pickle(os.path.join(rawdata_path, 'item.pkl'))\n",
    "hist_data = pd.read_pickle(os.path.join(rawdata_path, 'history.pkl')) # unique id = 2038827"
   ]
  },
  {
   "cell_type": "code",
   "execution_count": 3,
   "id": "afcf867e-c2c1-45a3-a024-80b03213ebe7",
   "metadata": {},
   "outputs": [],
   "source": [
    "# 데이터 타입 통일\n",
    "user_data = user_data.astype({'sa_id':'str'})\n",
    "item_data = item_data.astype({'category_id':'str', 'category_name':'str', 'album_id':'str'})\n",
    "hist_data = hist_data.astype({'sa_id':'str', 'album_id':'str', 'category_id':'str'})"
   ]
  },
  {
   "cell_type": "code",
   "execution_count": 4,
   "id": "521fd40c-88ec-42b1-b0bf-391307e87dc6",
   "metadata": {},
   "outputs": [],
   "source": [
    "item_columns = ['category_id','category_name','pr_info','price','release_date','run_time_ss']\n",
    "item_data = item_data.dropna(subset=item_columns)"
   ]
  },
  {
   "cell_type": "code",
   "execution_count": 5,
   "id": "a55bcf6b-6874-4185-b733-393cd5295b1e",
   "metadata": {},
   "outputs": [],
   "source": [
    "############################### 22.01.24 rating 신규 ##########################\n",
    "# hist_data['rating_5'] = 5 # 5점 만들기\n",
    "hist_data['rating_r'] = 2.5 + hist_data['watch_ratio'] * 2.5  # 나름대로 조작"
   ]
  },
  {
   "cell_type": "code",
   "execution_count": 6,
   "id": "0232330a-9048-4822-965d-c6662db3892b",
   "metadata": {},
   "outputs": [
    {
     "data": {
      "text/html": [
       "<div>\n",
       "<style scoped>\n",
       "    .dataframe tbody tr th:only-of-type {\n",
       "        vertical-align: middle;\n",
       "    }\n",
       "\n",
       "    .dataframe tbody tr th {\n",
       "        vertical-align: top;\n",
       "    }\n",
       "\n",
       "    .dataframe thead th {\n",
       "        text-align: right;\n",
       "    }\n",
       "</style>\n",
       "<table border=\"1\" class=\"dataframe\">\n",
       "  <thead>\n",
       "    <tr style=\"text-align: right;\">\n",
       "      <th></th>\n",
       "      <th>sa_id</th>\n",
       "      <th>album_id</th>\n",
       "      <th>rating</th>\n",
       "      <th>category_id</th>\n",
       "      <th>watch_ratio</th>\n",
       "      <th>current_rate</th>\n",
       "      <th>rating_r</th>\n",
       "    </tr>\n",
       "  </thead>\n",
       "  <tbody>\n",
       "    <tr>\n",
       "      <th>0</th>\n",
       "      <td>205090929633</td>\n",
       "      <td>M01213B193PPV00</td>\n",
       "      <td>0.3731</td>\n",
       "      <td>B3054</td>\n",
       "      <td>0.6184</td>\n",
       "      <td>0.1278</td>\n",
       "      <td>4.046</td>\n",
       "    </tr>\n",
       "    <tr>\n",
       "      <th>1</th>\n",
       "      <td>205090929633</td>\n",
       "      <td>M01213H284PPV00</td>\n",
       "      <td>0.4639</td>\n",
       "      <td>B3054</td>\n",
       "      <td>0.8000</td>\n",
       "      <td>0.1278</td>\n",
       "      <td>4.500</td>\n",
       "    </tr>\n",
       "  </tbody>\n",
       "</table>\n",
       "</div>"
      ],
      "text/plain": [
       "          sa_id         album_id  rating category_id  watch_ratio  \\\n",
       "0  205090929633  M01213B193PPV00  0.3731       B3054       0.6184   \n",
       "1  205090929633  M01213H284PPV00  0.4639       B3054       0.8000   \n",
       "\n",
       "   current_rate  rating_r  \n",
       "0        0.1278     4.046  \n",
       "1        0.1278     4.500  "
      ]
     },
     "execution_count": 6,
     "metadata": {},
     "output_type": "execute_result"
    }
   ],
   "source": [
    "hist_data.head(2)"
   ]
  },
  {
   "cell_type": "code",
   "execution_count": 7,
   "id": "3adfa331-da71-4b38-8887-d9ffa6a1cf8d",
   "metadata": {},
   "outputs": [],
   "source": [
    "# 차이 존재\n",
    "hist_data = hist_data[['sa_id','album_id', 'rating_r']]"
   ]
  },
  {
   "cell_type": "code",
   "execution_count": 8,
   "id": "121ceeee-52d4-4569-9075-6ee8595e0685",
   "metadata": {},
   "outputs": [],
   "source": [
    "hist_data1 = hist_data.merge(item_data[['album_id','category_id']], on='album_id')"
   ]
  },
  {
   "cell_type": "code",
   "execution_count": 9,
   "id": "3eb4acbb-066b-43e1-bbc9-757d3d64d7d9",
   "metadata": {},
   "outputs": [],
   "source": [
    "train_data = pd.DataFrame(hist_data1.groupby(by=['sa_id','category_id'], sort=False)['rating_r'].max()).reset_index()   # Maximun"
   ]
  },
  {
   "cell_type": "code",
   "execution_count": 15,
   "id": "d69addd3-b2a9-41b0-90b9-c236187c08c4",
   "metadata": {},
   "outputs": [],
   "source": [
    "train_data['rating_5'] = 5"
   ]
  },
  {
   "cell_type": "code",
   "execution_count": 10,
   "id": "54d73f60-900e-40ac-8b20-98a1120b4457",
   "metadata": {},
   "outputs": [],
   "source": [
    "item_columns = ['pr_info','price','release_date','run_time_ss']\n",
    "category_data = item_data.groupby(by='category_id', sort=False)[item_columns].max()\n",
    "category_data = pd.DataFrame(category_data).reset_index()"
   ]
  },
  {
   "cell_type": "code",
   "execution_count": 17,
   "id": "0d8fcd2e-bf2e-401b-9b1f-37330f0a1767",
   "metadata": {},
   "outputs": [],
   "source": [
    "item_columns = ['category_id','pr_info','price','release_date','run_time_ss']\n",
    "train_data = train_data.merge(user_data, on='sa_id')"
   ]
  },
  {
   "cell_type": "code",
   "execution_count": 18,
   "id": "e12e54cc-af03-46e0-b7ab-4f83b97cc592",
   "metadata": {},
   "outputs": [],
   "source": [
    "train_data = train_data.merge(category_data[item_columns], on='category_id')"
   ]
  },
  {
   "cell_type": "code",
   "execution_count": 20,
   "id": "5cccb977-92e7-4de2-8968-35cfaf7573a8",
   "metadata": {},
   "outputs": [],
   "source": [
    "def encoding(dataset, columns):\n",
    "    # label encoding\n",
    "    for col_name in columns:\n",
    "        codes, _ = dataset[col_name].factorize()            \n",
    "        dataset[col_name + '_CODE'] = codes            \n",
    "\n",
    "    return dataset"
   ]
  },
  {
   "cell_type": "code",
   "execution_count": 21,
   "id": "2d2ddafe-3906-478e-be00-9bdd4c9f6337",
   "metadata": {},
   "outputs": [],
   "source": [
    "def minmax_scaling(dataset, columns):\n",
    "    mms = MinMaxScaler(feature_range=(0, 1))\n",
    "    dataset[columns] = mms.fit_transform(dataset[columns])\n",
    "\n",
    "    return dataset"
   ]
  },
  {
   "cell_type": "code",
   "execution_count": 22,
   "id": "c035a131-f56a-4fa5-86c9-2f2deb90d9e5",
   "metadata": {},
   "outputs": [],
   "source": [
    "train_data = encoding(train_data, ['category_id','pr_info','price'])\n",
    "train_data = encoding(train_data, ['sa_id'])"
   ]
  },
  {
   "cell_type": "code",
   "execution_count": 23,
   "id": "bd73b2d8-de0c-4343-b53b-2356f6d705ff",
   "metadata": {},
   "outputs": [
    {
     "name": "stderr",
     "output_type": "stream",
     "text": [
      "/home/lms/anaconda3/envs/tf_deepctr/lib/python3.6/site-packages/ipykernel_launcher.py:3: SettingWithCopyWarning: \n",
      "A value is trying to be set on a copy of a slice from a DataFrame.\n",
      "Try using .loc[row_indexer,col_indexer] = value instead\n",
      "\n",
      "See the caveats in the documentation: https://pandas.pydata.org/pandas-docs/stable/user_guide/indexing.html#returning-a-view-versus-a-copy\n",
      "  This is separate from the ipykernel package so we can avoid doing imports until\n",
      "/home/lms/anaconda3/envs/tf_deepctr/lib/python3.6/site-packages/pandas/core/indexing.py:1734: SettingWithCopyWarning: \n",
      "A value is trying to be set on a copy of a slice from a DataFrame.\n",
      "Try using .loc[row_indexer,col_indexer] = value instead\n",
      "\n",
      "See the caveats in the documentation: https://pandas.pydata.org/pandas-docs/stable/user_guide/indexing.html#returning-a-view-versus-a-copy\n",
      "  isetter(loc, value[:, i].tolist())\n"
     ]
    }
   ],
   "source": [
    "scale_columns = ['release_date', 'run_time_ss']\n",
    "train_data['release_date'] = train_data['release_date'].replace('', '19900101')\n",
    "train_data[scale_columns] = minmax_scaling(train_data[scale_columns], scale_columns)"
   ]
  },
  {
   "cell_type": "code",
   "execution_count": 24,
   "id": "105fc895-8fb0-42ec-9581-ab7511b8daf5",
   "metadata": {},
   "outputs": [],
   "source": [
    "# for mapping data\n",
    "mapping = train_data[['sa_id', 'category_id', 'category_id_CODE', 'sa_id_CODE']]\n",
    "mapping.to_pickle(os.path.join(procdata_path_r, 'mapping.pkl'))"
   ]
  },
  {
   "cell_type": "code",
   "execution_count": 25,
   "id": "d18011ed-4bf1-4f82-9e7e-3cc07b013c1c",
   "metadata": {},
   "outputs": [],
   "source": [
    "def save_code(dataset, user_column='sa_id', item_column='category_id'):\n",
    "    user_map = dataset[[user_column, \n",
    "                        user_column+'_CODE', \n",
    "                        'seg_1', \n",
    "                        'seg_2', \n",
    "                        'seg_3', \n",
    "                        'seg_4']].drop_duplicates()\n",
    "    item_map = dataset[[item_column, \n",
    "                        item_column+'_CODE', \n",
    "                        'price_CODE', \n",
    "                        'pr_info_CODE', \n",
    "                        'release_date', \n",
    "                        'run_time_ss']].drop_duplicates()\n",
    "\n",
    "    user_map.to_pickle(os.path.join(procdata_path_r, 'user.pkl'))\n",
    "    item_map.to_pickle(os.path.join(procdata_path_r, 'item.pkl'))\n",
    "            \n",
    "\n",
    "def save_history(dataset):\n",
    "    dataset.to_pickle(os.path.join(procdata_path_r, 'hist.pkl'))"
   ]
  },
  {
   "cell_type": "code",
   "execution_count": 26,
   "id": "0df56fc4-983f-4591-bee6-b337e6fa01a5",
   "metadata": {},
   "outputs": [],
   "source": [
    "save_code(train_data)"
   ]
  },
  {
   "cell_type": "code",
   "execution_count": 27,
   "id": "7ccd2eed-27fc-4ba9-9735-6b13ab65289f",
   "metadata": {},
   "outputs": [],
   "source": [
    "save_columns = ['sa_id_CODE',\n",
    "                'category_id_CODE',\n",
    "                'rating_r',\n",
    "                'rating_5',\n",
    "                'seg_1',\n",
    "                'seg_2',\n",
    "                'seg_3',\n",
    "                'seg_4',\n",
    "                'pr_info_CODE',\n",
    "                'price_CODE',\n",
    "                'release_date',\n",
    "                'run_time_ss'\n",
    "               ]\n",
    "save_history(train_data[save_columns])  "
   ]
  },
  {
   "cell_type": "code",
   "execution_count": null,
   "id": "4cb6b39d-2059-4daf-8a13-df71594179ac",
   "metadata": {},
   "outputs": [],
   "source": []
  },
  {
   "cell_type": "code",
   "execution_count": null,
   "id": "36aacee0-1222-4715-8423-3ac31a4c1fbb",
   "metadata": {},
   "outputs": [],
   "source": []
  },
  {
   "cell_type": "code",
   "execution_count": null,
   "id": "5a5adc7d-12ac-4031-bbed-7631e9b1b718",
   "metadata": {},
   "outputs": [],
   "source": []
  }
 ],
 "metadata": {
  "kernelspec": {
   "display_name": "tf_deepctr",
   "language": "python",
   "name": "tf_deepctr"
  },
  "language_info": {
   "codemirror_mode": {
    "name": "ipython",
    "version": 3
   },
   "file_extension": ".py",
   "mimetype": "text/x-python",
   "name": "python",
   "nbconvert_exporter": "python",
   "pygments_lexer": "ipython3",
   "version": "3.6.13"
  }
 },
 "nbformat": 4,
 "nbformat_minor": 5
}
