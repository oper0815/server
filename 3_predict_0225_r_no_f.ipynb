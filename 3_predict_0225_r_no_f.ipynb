{
 "cells": [
  {
   "cell_type": "code",
   "execution_count": 1,
   "id": "365f8e54-12a3-4f0b-9734-7009f1c12bd5",
   "metadata": {},
   "outputs": [
    {
     "name": "stdout",
     "output_type": "stream",
     "text": [
      "tensorflow version :  2.4.4\n",
      "keras version :  2.4.0\n",
      "WARNING:tensorflow:From <ipython-input-1-55655caa9e2f>:27: is_gpu_available (from tensorflow.python.framework.test_util) is deprecated and will be removed in a future version.\n",
      "Instructions for updating:\n",
      "Use `tf.config.list_physical_devices('GPU')` instead.\n",
      "GPU available ? :  True\n"
     ]
    }
   ],
   "source": [
    "import os\n",
    "import numpy as np\n",
    "import pandas as pd\n",
    "import tensorflow as tf\n",
    "\n",
    "from tqdm import tqdm\n",
    "from deepctr.models import DeepFM\n",
    "from deepctr.layers import custom_objects\n",
    "from tensorflow.data import Dataset as tfds\n",
    "\n",
    "os.environ['CUDA_DEVICE_ORDER'] = 'PCI_BUS_ID'\n",
    "#os.environ[\"CUDA_VISIBLE_DEVICES\"] = '3'\n",
    "os.environ[\"CUDA_VISIBLE_DEVICES\"] = '0'\n",
    "\n",
    "# Gpu growth setting\n",
    "import tensorflow as tf\n",
    "config = tf.compat.v1.ConfigProto()\n",
    "config.gpu_options.allow_growth = True\n",
    "session = tf.compat.v1.Session(config=config)\n",
    "\n",
    "\n",
    "# tensorflow & keras version check\n",
    "print('tensorflow version : ' , tf.__version__)\n",
    "print('keras version : ' , tf.keras.__version__)\n",
    "\n",
    "# tensorflow gpu available check \n",
    "print('GPU available ? : ', tf.test.is_gpu_available(cuda_only=False, min_cuda_compute_capability=None))"
   ]
  },
  {
   "cell_type": "code",
   "execution_count": 14,
   "id": "ade6a3ec-9ccb-46d6-8e01-cea859bad288",
   "metadata": {},
   "outputs": [],
   "source": [
    "from os.path import isfile, join\n",
    "basedir = '/home/lms/ms/poc'\n",
    "rawdata_path = join(basedir, 'dataset')\n",
    "procdata_path = join(basedir, 'deepfm', 'dataset', 'preprocess', 'rating')\n",
    "result_path_5_no_f = join(basedir, 'deepfm', 'result', 'result_5_no_f') # path 설정 필요\n",
    "result_path_r_no_f = join(basedir, 'deepfm', 'result', 'result_r_no_f') # path 설정 필요\n",
    "result_path_5_f = join(basedir, 'deepfm', 'result', 'result_5_f') # path 설정 필요\n",
    "result_path_r_f = join(basedir, 'deepfm', 'result', 'result_r_f') # path 설정 필요\n",
    "\n",
    "model_path_5_no_f= join(basedir, 'deepfm', 'model', 'model_5_no_f')\n",
    "model_path_r_no_f= join(basedir, 'deepfm', 'model', 'model_r_no_f')\n",
    "model_path_5_f= join(basedir, 'deepfm', 'model', 'model_5_f')\n",
    "model_path_r_f= join(basedir, 'deepfm', 'model', 'model_r_f')\n",
    "\n",
    "rawdata_path = rawdata_path\n",
    "procdata_path = procdata_path\n",
    "model_path = model_path\n",
    "batch_size = 50\n",
    "topk = 25"
   ]
  },
  {
   "cell_type": "code",
   "execution_count": 3,
   "id": "30ae5fcc-fccf-461e-95df-66073c42cfce",
   "metadata": {},
   "outputs": [],
   "source": [
    "user_file='user.pkl'\n",
    "item_file='item.pkl'\n",
    "\n",
    "users = pd.read_pickle(os.path.join(procdata_path, user_file))\n",
    "items = pd.read_pickle(os.path.join(procdata_path, item_file))"
   ]
  },
  {
   "cell_type": "code",
   "execution_count": 4,
   "id": "f323eccf-bb55-4653-9f4f-ac1337c861ba",
   "metadata": {},
   "outputs": [],
   "source": [
    "item_columns = ['category_id','gubun','rep_album_id','category_name']\n",
    "category_data = pd.read_pickle(os.path.join(rawdata_path, 'item.pkl'))\n",
    "category_data = category_data.astype({'category_id':'str', 'category_name':'str', 'album_id':'str'})\n",
    "category_data = category_data.drop_duplicates(subset=item_columns)\n",
    "\n",
    "n_users = len(users)\n",
    "n_items = len(items)\n",
    "\n",
    "category_data = items.merge(category_data, on='category_id')"
   ]
  },
  {
   "cell_type": "code",
   "execution_count": 5,
   "id": "21e7fdeb-d05a-4232-8f45-5ff9374ca01c",
   "metadata": {},
   "outputs": [],
   "source": [
    "unique_user = users[users.columns[1:]]\n",
    "unique_item = items[items.columns[1:]]"
   ]
  },
  {
   "cell_type": "code",
   "execution_count": 6,
   "id": "9e6d5ae0-3871-44ee-aa52-68527832074d",
   "metadata": {},
   "outputs": [],
   "source": [
    "model = tf.keras.models.load_model(os.path.join(model_path_r_no_f, 'bestmodel'), \n",
    "                                   custom_objects=custom_objects)"
   ]
  },
  {
   "cell_type": "code",
   "execution_count": 8,
   "id": "5baac2ba-3c79-4941-bc86-496be43d2183",
   "metadata": {},
   "outputs": [],
   "source": [
    "def save_reclist(pred_mat, start_idx, end_idx, out_file):\n",
    "\n",
    "    values, indices = tf.math.top_k(pred_mat, topk)\n",
    "\n",
    "    user_codes = np.repeat(np.arange(start_idx, end_idx), topk)\n",
    "    item_codes = tf.reshape(indices, [-1])\n",
    "\n",
    "    gubun = category_data.iloc[item_codes]['gubun'].values\n",
    "    sa_id = users.iloc[user_codes]['sa_id_CODE'].values\n",
    "    category_id = category_data.iloc[item_codes]['category_id_CODE'].values\n",
    "    category_name = category_data.iloc[item_codes]['category_name'].values\n",
    "    score = tf.reshape(values, [-1])\n",
    "    rank = np.tile(np.arange(1, topk+1), end_idx-start_idx)\n",
    "\n",
    "    np.savetxt(out_file, \n",
    "               np.vstack((gubun, sa_id, category_id, category_name, score, rank)).T, \n",
    "               delimiter='\\001', \n",
    "               fmt=['%s','%s','%s','%s','%1.5f','%i'],\n",
    "               encoding='utf-8')"
   ]
  },
  {
   "cell_type": "code",
   "execution_count": 9,
   "id": "06aac37f-35bc-4d00-9319-e7cf69c0ed00",
   "metadata": {},
   "outputs": [],
   "source": [
    "def batch_input_data():\n",
    "    start = 0\n",
    "    end = start + batch_size\n",
    "    finished = False\n",
    "\n",
    "    while not finished:\n",
    "        yielded_users = np.repeat(unique_user.iloc[start:end]['sa_id_CODE'].values, n_items)\n",
    "        yielded_albums = np.tile(unique_item['category_id_CODE'].values, batch_size)\n",
    "\n",
    "        yield yielded_users, yielded_albums\n",
    "\n",
    "        start = end\n",
    "        end = start + batch_size\n",
    "\n",
    "        if end > n_users:\n",
    "            finished = True"
   ]
  },
  {
   "cell_type": "code",
   "execution_count": 10,
   "id": "b1c23c56-4a9f-4418-a416-19a706bd979d",
   "metadata": {},
   "outputs": [],
   "source": [
    "def gen_data_loader():\n",
    "\n",
    "    return tfds.from_generator(batch_input_data,\n",
    "                              output_types=(tf.int32,\n",
    "                                            tf.int32)).prefetch(32)"
   ]
  },
  {
   "cell_type": "code",
   "execution_count": 12,
   "id": "a8bfbcc0-2e5b-4cb9-8e28-07e063065157",
   "metadata": {},
   "outputs": [],
   "source": [
    "def file_open(i):\n",
    "    return open(os.path.join(result_path_r_no_f, 'reclist_' + str(i) + '.csv'), 'wb')\n",
    "\n",
    "\n",
    "def file_close(file):\n",
    "    file.close()"
   ]
  },
  {
   "cell_type": "code",
   "execution_count": 13,
   "id": "73b6ddae-4ec4-4f17-964a-92e219f5662a",
   "metadata": {},
   "outputs": [
    {
     "name": "stderr",
     "output_type": "stream",
     "text": [
      " 43%|████▎     | 17099/39469 [16:33<21:40, 17.20it/s]\n"
     ]
    }
   ],
   "source": [
    "with tqdm(total=n_users//batch_size) as pbar:\n",
    "    i = 0\n",
    "\n",
    "    f = file_open(i)\n",
    "    for said, category in gen_data_loader():\n",
    "        pred = model.predict_on_batch({'sa_id_CODE':said,\n",
    "                                           'category_id_CODE':category}).reshape(-1, n_items)\n",
    "\n",
    "        if f.tell() > 1024**3:  # split file by size\n",
    "            break\n",
    "\n",
    "        save_reclist(pred, said[0], said[-1]+1, f)\n",
    "\n",
    "        pbar.update(1)\n",
    "\n",
    "    file_close(f)"
   ]
  },
  {
   "cell_type": "code",
   "execution_count": null,
   "id": "7ac11bf4-91d7-4abd-b065-c47047d45d94",
   "metadata": {},
   "outputs": [],
   "source": []
  },
  {
   "cell_type": "code",
   "execution_count": null,
   "id": "bb8fff8d-4c49-4e93-bf55-e644a682dbf9",
   "metadata": {},
   "outputs": [],
   "source": []
  },
  {
   "cell_type": "code",
   "execution_count": null,
   "id": "1e402d5f-69fe-4c29-b084-e6054f385b04",
   "metadata": {},
   "outputs": [],
   "source": []
  },
  {
   "cell_type": "code",
   "execution_count": null,
   "id": "e00ee2cf-776e-4eba-b06d-63512291d878",
   "metadata": {},
   "outputs": [],
   "source": []
  },
  {
   "cell_type": "code",
   "execution_count": null,
   "id": "76ef9dcb-249a-49ac-9930-1e2e09df8234",
   "metadata": {},
   "outputs": [],
   "source": []
  }
 ],
 "metadata": {
  "kernelspec": {
   "display_name": "tf_deepctr",
   "language": "python",
   "name": "tf_deepctr"
  },
  "language_info": {
   "codemirror_mode": {
    "name": "ipython",
    "version": 3
   },
   "file_extension": ".py",
   "mimetype": "text/x-python",
   "name": "python",
   "nbconvert_exporter": "python",
   "pygments_lexer": "ipython3",
   "version": "3.6.13"
  }
 },
 "nbformat": 4,
 "nbformat_minor": 5
}
